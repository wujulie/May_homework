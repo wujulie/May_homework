{
 "cells": [
  {
   "cell_type": "code",
   "execution_count": 1,
   "metadata": {},
   "outputs": [
    {
     "name": "stdout",
     "output_type": "stream",
     "text": [
      "1. Hello World in Python:\n",
      "\n",
      "hello world\n"
     ]
    }
   ],
   "source": [
    "print('1. Hello World in Python:\\n')\n",
    "print('hello world')"
   ]
  },
  {
   "cell_type": "code",
   "execution_count": 2,
   "metadata": {},
   "outputs": [
    {
     "name": "stdout",
     "output_type": "stream",
     "text": [
      "\n",
      "2. String Operations in Python:\n",
      "\n",
      "['compare', 'Python', 'with', 'Java']\n"
     ]
    }
   ],
   "source": [
    "print('\\n2. String Operations in Python:\\n')\n",
    "a='compare Python with Java'\n",
    "print(a.split())"
   ]
  },
  {
   "cell_type": "code",
   "execution_count": 3,
   "metadata": {},
   "outputs": [
    {
     "name": "stdout",
     "output_type": "stream",
     "text": [
      "3. Control Flow in Python:\n",
      "\n",
      "=10\n",
      "10\n",
      "9\n",
      "8\n",
      "7\n",
      "6\n",
      "5\n",
      "4\n",
      "3\n",
      "2\n",
      "while result end\n",
      "\n",
      "1\n",
      "switch result end\n",
      "\n",
      "1\n",
      "2\n",
      "3\n",
      "4\n",
      "5\n",
      "6\n",
      "7\n",
      "8\n",
      "9\n"
     ]
    }
   ],
   "source": [
    "print('3. Control Flow in Python:\\n')\n",
    "#if\n",
    "condiction=10\n",
    "if condiction >10:\n",
    "    print('>10')\n",
    "elif condiction ==10:\n",
    "    print('=10')\n",
    "else:\n",
    "    print('<10')\n",
    "#while\n",
    "while condiction>1:\n",
    "    print(condiction)\n",
    "    condiction=condiction -1\n",
    "print('while result end\\n')\n",
    "#switch\n",
    "def f(x):\n",
    "    return{\n",
    "          1:1,\n",
    "          2:2,\n",
    " }[x]\n",
    "print(f(condiction))\n",
    "print('switch result end\\n')\n",
    "#for\n",
    "for x in range(1,10):\n",
    "    print(x)"
   ]
  },
  {
   "cell_type": "code",
   "execution_count": 7,
   "metadata": {},
   "outputs": [
    {
     "name": "stdout",
     "output_type": "stream",
     "text": [
      "\n",
      "4. Class&Inheritance in Python:\n",
      "I am Chiwawa,and I can bark\n"
     ]
    }
   ],
   "source": [
    "print('\\n4. Class&Inheritance in Python:')\n",
    "class Animal():\n",
    "    def __init__(self,name):\n",
    "        self.name=name\n",
    "    def Saysomething(self):\n",
    "        print('I am'+self.name)\n",
    "class Dog(Animal):\n",
    "    def Saysomething(self):\n",
    "        print('I am '+self.name+',and I can bark')\n",
    "dog=Dog('Chiwawa')\n",
    "dog.Saysomething()\n"
   ]
  },
  {
   "cell_type": "code",
   "execution_count": 10,
   "metadata": {},
   "outputs": [
    {
     "name": "stdout",
     "output_type": "stream",
     "text": [
      "\n",
      "5.File I/O in Python\n",
      "This is my first test\n",
      "\n"
     ]
    }
   ],
   "source": [
    "print('\\n5.File I/O in Python')\n",
    "text='This is my first test\\n'\n",
    "myFile=open('myfile.txt','w')\n",
    "myFile.write(text)\n",
    "myFile=open('myfile.txt','r')\n",
    "print(myFile.read())\n",
    "myFile.close()"
   ]
  },
  {
   "cell_type": "code",
   "execution_count": null,
   "metadata": {},
   "outputs": [],
   "source": [
    "print('\\n6. NULL in Python:')\n",
    "special=None"
   ]
  },
  {
   "cell_type": "code",
   "execution_count": 8,
   "metadata": {},
   "outputs": [
    {
     "name": "stdout",
     "output_type": "stream",
     "text": [
      "\n",
      "7.Collections in Python\n",
      "['a', 'b', 'c']\n"
     ]
    }
   ],
   "source": [
    "print('\\n7.Collections in Python')\n",
    "aList=[]\n",
    "aList.append('a')\n",
    "aList.append('b')\n",
    "aList.append('c')\n",
    "print(aList)"
   ]
  },
  {
   "cell_type": "code",
   "execution_count": 12,
   "metadata": {},
   "outputs": [
    {
     "name": "stdout",
     "output_type": "stream",
     "text": [
      "\n",
      "6.Numbers in Python\n"
     ]
    }
   ],
   "source": [
    "print('\\n8.Numbers in Python')\n",
    "num=100\n",
    "num=int(100)\n",
    "f=1.01\n",
    "f=float(1.01)\n",
    "special=None"
   ]
  },
  {
   "cell_type": "code",
   "execution_count": 21,
   "metadata": {},
   "outputs": [
    {
     "name": "stdout",
     "output_type": "stream",
     "text": [
      "(5,)\n",
      "5\n"
     ]
    }
   ],
   "source": [
    "print('\\n9.Tuple in Python')\n",
    "aTuple=()\n",
    "#aTuple=(5)\n",
    "aTuple=(5,)\n",
    "print(aTuple)\n",
    "print(aTuple[0])"
   ]
  },
  {
   "cell_type": "code",
   "execution_count": 22,
   "metadata": {},
   "outputs": [
    {
     "name": "stdout",
     "output_type": "stream",
     "text": [
      "\n",
      "8.Set in Python\n",
      "aSet:two\n",
      "aSet:one\n",
      "aSet:three\n",
      "aSet OR bSet:\n",
      "{'five', 'one', 'three', 'two', 'four'}\n",
      "aSet AND bSedSet\n",
      "{'three'}\n",
      "aSet difference bSet\n",
      "{'two', 'one'}\n",
      "bSet add six:\n",
      "{'five', 'four', 'six', 'three'}\n"
     ]
    }
   ],
   "source": [
    "print('\\n10.Set in Python')\n",
    "aSet=set()\n",
    "aSet=set('one')\n",
    "aSet=set(['one','two','three'])\n",
    "for v in aSet:\n",
    "    print('aSet:'+v)  \n",
    "bSet=set(['three','four','five'])\n",
    "cSet=aSet|bSet\n",
    "print('aSet OR bSet:')\n",
    "print(cSet)\n",
    "dSet=aSet&bSet\n",
    "print('aSet AND bSedSet')\n",
    "print(dSet)\n",
    "eSet=aSet.difference(bSet)\n",
    "print('aSet difference bSet')\n",
    "print(eSet)\n",
    "bSet.add('six')\n",
    "print('bSet add six:')\n",
    "print(bSet)"
   ]
  },
  {
   "cell_type": "code",
   "execution_count": 23,
   "metadata": {},
   "outputs": [
    {
     "name": "stdout",
     "output_type": "stream",
     "text": [
      "\n",
      "9.Dictionaries in Python\n",
      "\n",
      "Mike 555-1111\n",
      "Lucy 555-2222\n",
      "Jack 555-3333\n",
      "dict_keys(['Lucy', 'Jack', 'Mary', 'Susan'])\n",
      "(1, 2, 3, 4)\n",
      "{}\n"
     ]
    }
   ],
   "source": [
    "print('\\n11.Dictionaries in Python\\n')\n",
    "phoneBook={}\n",
    "phoneBook={'Mike':'555-1111',\n",
    "           'Lucy':'555-2222',\n",
    "           'Jack':'555-3333'}\n",
    "for key in phoneBook:\n",
    "    print(key,phoneBook[key])\n",
    "phoneBook['Mary']='555-6666'\n",
    "del phoneBook['Mike']\n",
    "count=len(phoneBook)\n",
    "phoneBook['Susan']=(1,2,3,4)\n",
    "print(phoneBook.keys())\n",
    "print(phoneBook['Susan'])\n",
    "phoneBook.clear()\n",
    "print(phoneBook)\n",
    "    "
   ]
  },
  {
   "cell_type": "code",
   "execution_count": null,
   "metadata": {},
   "outputs": [],
   "source": []
  }
 ],
 "metadata": {
  "kernelspec": {
   "display_name": "Python 3",
   "language": "python",
   "name": "python3"
  },
  "language_info": {
   "codemirror_mode": {
    "name": "ipython",
    "version": 3
   },
   "file_extension": ".py",
   "mimetype": "text/x-python",
   "name": "python",
   "nbconvert_exporter": "python",
   "pygments_lexer": "ipython3",
   "version": "3.7.4"
  }
 },
 "nbformat": 4,
 "nbformat_minor": 2
}
